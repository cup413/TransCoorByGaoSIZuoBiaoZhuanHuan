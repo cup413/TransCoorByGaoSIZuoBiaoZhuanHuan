{
 "cells": [
  {
   "cell_type": "code",
   "execution_count": 2,
   "metadata": {
    "collapsed": true
   },
   "outputs": [],
   "source": [
    "from pywinauto import application"
   ]
  },
  {
   "cell_type": "code",
   "execution_count": 19,
   "outputs": [],
   "source": [
    "x = 4605989.05\n",
    "y = 15286000"
   ],
   "metadata": {
    "collapsed": false,
    "pycharm": {
     "name": "#%%\n"
    }
   }
  },
  {
   "cell_type": "code",
   "execution_count": 46,
   "outputs": [
    {
     "name": "stderr",
     "output_type": "stream",
     "text": [
      "D:\\anaconda3\\lib\\site-packages\\pywinauto\\application.py:1085: UserWarning: 32-bit application should be automated using 32-bit Python (you use 64-bit Python)\n",
      "  warnings.warn(\n"
     ]
    }
   ],
   "source": [
    "class TransBetweenXYAndLatLon:\n",
    "    def __init__(self):\n",
    "        self.app = application.Application(backend='win32').start('Software/高斯坐标转换.exe')\n",
    "        self.top = self.app['高斯坐标转换1.0版']\n",
    "\n",
    "    def XY2LatLon(self, x,y):\n",
    "        self.top['高斯坐标反算'].click()\n",
    "\n",
    "        self.top['北京1954参考椭球'].click()\n",
    "\n",
    "        self.top['XEdit'].set_text(x)\n",
    "        self.top['YEdit'].set_text(y)\n",
    "\n",
    "        self.top['六度带投影'].click()\n",
    "        textLst = []\n",
    "        for i in range(1,7):\n",
    "            text = self.top['Edit%d'%i].window_text()\n",
    "            textLst.append(text)\n",
    "\n",
    "        lat = textLst[0:3]\n",
    "        lon = textLst[3:]\n",
    "        return lat, lon\n",
    "    def LatLon2XY(self, lat, lon):\n",
    "        self.top['高斯坐标正算'].click()\n",
    "        self.top['北京1954参考椭球'].click()\n",
    "\n",
    "        latlon = []\n",
    "        latlon.extend( lat )\n",
    "        latlon.extend( lon )\n",
    "        # print(latlon)\n",
    "        for i in range(1,7):\n",
    "            text = self.top['Edit%d'%i]\n",
    "            text.set_text( latlon[i-1] )\n",
    "        self.top['六度带投影'].click()\n",
    "        x = self.top['XEdit'].window_text()\n",
    "        y = self.top['YEdit'].window_text()\n",
    "        return x,y\n",
    "trans = TransBetweenXYAndLatLon()"
   ],
   "metadata": {
    "collapsed": false,
    "pycharm": {
     "name": "#%%\n"
    }
   }
  },
  {
   "cell_type": "code",
   "execution_count": 48,
   "outputs": [],
   "source": [
    "latlon = trans.XY2LatLon(x,y)"
   ],
   "metadata": {
    "collapsed": false,
    "pycharm": {
     "name": "#%%\n"
    }
   }
  },
  {
   "cell_type": "code",
   "execution_count": 49,
   "outputs": [
    {
     "name": "stdout",
     "output_type": "stream",
     "text": [
      "['41', '33', '34.7697', '84', '26', '5.27847']\n"
     ]
    },
    {
     "data": {
      "text/plain": "('4605989.0484867', '15285999.9996298')"
     },
     "execution_count": 49,
     "metadata": {},
     "output_type": "execute_result"
    }
   ],
   "source": [
    "trans.LatLon2XY(latlon[0], latlon[1])"
   ],
   "metadata": {
    "collapsed": false,
    "pycharm": {
     "name": "#%%\n"
    }
   }
  }
 ],
 "metadata": {
  "kernelspec": {
   "display_name": "Python 3",
   "language": "python",
   "name": "python3"
  },
  "language_info": {
   "codemirror_mode": {
    "name": "ipython",
    "version": 2
   },
   "file_extension": ".py",
   "mimetype": "text/x-python",
   "name": "python",
   "nbconvert_exporter": "python",
   "pygments_lexer": "ipython2",
   "version": "2.7.6"
  }
 },
 "nbformat": 4,
 "nbformat_minor": 0
}